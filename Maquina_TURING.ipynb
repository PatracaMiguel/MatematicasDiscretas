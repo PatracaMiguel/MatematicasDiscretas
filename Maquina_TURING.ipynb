{
 "cells": [
  {
   "cell_type": "markdown",
   "id": "7a1d294c-6049-4750-9295-b76323de6ce9",
   "metadata": {},
   "source": [
    "# Simulación de una Máquina de Turing\n",
    "\n",
    "En este notebook, vamos implementar una simulación de una máquina de Turing en Python. \n",
    "\n",
    "Una máquina de Turing es un modelo computacional teórico que puede simular cualquier algoritmo. Consiste en una cinta infinita dividida en celdas, un cabezal que puede leer y escribir símbolos en la cinta, y un conjunto de estados y transiciones que determinan el comportamiento de la máquina."
   ]
  },
  {
   "cell_type": "markdown",
   "id": "667efe44-fc10-4e24-8d0a-ad22576f1003",
   "metadata": {},
   "source": [
    "### Clase `TuringMachine`\n",
    "\n",
    "La clase `TuringMachine` representa una máquina de Turing y proporciona métodos para definir su comportamiento y ejecutarla.\n",
    "\n",
    "#### Atributos:\n",
    "\n",
    "- `tape`: La cinta de la máquina de Turing, representada como una lista de caracteres.\n",
    "- `blank_symbol`: El símbolo que representa una celda en blanco en la cinta.\n",
    "- `head_position`: La posición actual del cabezal de lectura/escritura en la cinta.\n",
    "- `current_state`: El estado actual de la máquina de Turing.\n",
    "- `final_states`: Un conjunto de estados finales que indican la finalización de la ejecución.\n",
    "- `transition_function`: Un diccionario que define las reglas de transición de la máquina. Las claves son tuplas de la forma `(estado_actual, símbolo_leyendo)`, y los valores son tuplas `(nuevo_estado, símbolo_a_escribir, dirección)`.\n",
    "\n",
    "#### Métodos:\n",
    "\n",
    "- `__init__(self, tape, blank_symbol, initial_state, final_states, transition_function)`: Constructor de la clase para inicializar los atributos de la máquina de Turing.\n",
    "- `step(self)`: Realiza un paso de la máquina de Turing de acuerdo con las reglas de transición definidas.\n",
    "- `run(self, max_steps=1000)`: Ejecuta la máquina de Turing hasta que alcanza un estado final o se excede el número máximo de pasos.\n",
    "- `__str__(self)`: Devuelve una representación en cadena del estado actual de la máquina de Turing.\n",
    "\n",
    "#### Ejemplo de Uso:\n",
    "\n",
    "```python\n",
    "# Definición de la función de transición\n",
    "transition_function = {\n",
    "    ('q0', '0'): ('q0', '1', 'R'),\n",
    "    ('q0', '1'): ('q0', '0', 'R'),\n",
    "    ('q0', '_'): ('qf', '_', 'N')\n",
    "}\n",
    "\n",
    "# Inicialización de la cinta, el símbolo en blanco, el estado inicial y los estados finales\n",
    "tape = \"0101010101\"\n",
    "blank_symbol = '_'\n",
    "initial_state = 'q0'\n",
    "final_states = {'qf'}\n",
    "\n",
    "# Creación de la máquina de Turing\n",
    "tm = TuringMachine(tape, blank_symbol, initial_state, final_states, transition_function)\n",
    "\n",
    "# Ejecución de la máquina de Turing\n",
    "final_tape = tm.run()\n",
    "print(\"Final Tape:\", final_tape)\n",
    "\n",
    "# Estado final de la máquina de Turing\n",
    "print(tm)"
   ]
  },
  {
   "cell_type": "code",
   "execution_count": 2,
   "id": "a93d6510-a21a-4bcf-b17f-041f6f4d26fc",
   "metadata": {},
   "outputs": [],
   "source": [
    "class TuringMachine:\n",
    "    def __init__(self, tape, blank_symbol, initial_state, final_states, transition_function):\n",
    "        self.tape = list(tape)\n",
    "        self.blank_symbol = blank_symbol\n",
    "        self.head_position = 0\n",
    "        self.current_state = initial_state\n",
    "        self.final_states = final_states\n",
    "        self.transition_function = transition_function\n",
    "\n",
    "    def step(self):\n",
    "        '''Realiza un paso de la máquina de Turing.'''\n",
    "        symbol_under_head = self.tape[self.head_position]\n",
    "        if (self.current_state, symbol_under_head) in self.transition_function:\n",
    "            new_state, write_symbol, direction = self.transition_function[(self.current_state, symbol_under_head)]\n",
    "            self.tape[self.head_position] = write_symbol\n",
    "            self.current_state = new_state\n",
    "            if direction == 'R':\n",
    "                self.head_position += 1\n",
    "                if self.head_position == len(self.tape):\n",
    "                    self.tape.append(self.blank_symbol)\n",
    "            elif direction == 'L':\n",
    "                if self.head_position == 0:\n",
    "                    self.tape.insert(0, self.blank_symbol)\n",
    "                else:\n",
    "                    self.head_position -= 1\n",
    "        else:\n",
    "            raise Exception(f\"No transition defined for state {self.current_state} and symbol {symbol_under_head}\")\n",
    "\n",
    "    def run(self, max_steps=1000):\n",
    "        '''Ejecuta la máquina de Turing hasta que alcance un estado final o se exceda el número máximo de pasos.'''\n",
    "        steps = 0\n",
    "        while self.current_state not in self.final_states and steps < max_steps:\n",
    "            self.step()\n",
    "            steps += 1\n",
    "        return ''.join(self.tape).strip(self.blank_symbol)\n",
    "\n",
    "    def __str__(self):\n",
    "        tape_str = ''.join(self.tape)\n",
    "        head_str = ' ' * self.head_position + '^'\n",
    "        return f\"Tape: {tape_str}\\nHead: {head_str}\\nState: {self.current_state}\""
   ]
  },
  {
   "cell_type": "markdown",
   "id": "ec3995e1-31cd-4dcf-b1d0-a47e3eb7fdae",
   "metadata": {},
   "source": [
    "# Ejemplo de Uso de la Máquina de Turing\n",
    "\n",
    "Vamos a definir una función de transición para una máquina simple que invierte los bits en una cinta de 0s y 1s, y se detiene cuando encuentra un símbolo en blanco (`_`)."
   ]
  },
  {
   "cell_type": "code",
   "execution_count": 5,
   "id": "d42ea98a-3165-410c-9e5c-0dcce861122f",
   "metadata": {},
   "outputs": [],
   "source": [
    "# Define la función de transición\n",
    "transition_function = {\n",
    "    ('q0', '0'): ('q0', '1', 'R'),\n",
    "    ('q0', '1'): ('q0', '0', 'R'),\n",
    "    ('q0', '_'): ('qf', '_', 'N')\n",
    "}\n",
    "\n",
    "# Define la cinta inicial, el símbolo en blanco, el estado inicial y los estados finales\n",
    "tape = \"0101010101\"\n",
    "blank_symbol = '_'\n",
    "initial_state = 'q0'\n",
    "final_states = {'qf'}\n",
    "\n",
    "# Instancia la máquina de Turing\n",
    "tm = TuringMachine(tape, blank_symbol, initial_state, final_states, transition_function)"
   ]
  },
  {
   "cell_type": "markdown",
   "id": "b8586d3c-ac57-470c-aaa9-2f9475bbea30",
   "metadata": {},
   "source": [
    "## Ejecuta la Máquina de Turing\n",
    "\n",
    "Vamos a ejecutar la máquina de Turing y mostrar el contenido final de la cinta y el estado de la máquina."
   ]
  },
  {
   "cell_type": "code",
   "execution_count": 7,
   "id": "0bac0f3b-91c5-45a9-ad53-237c383c7f74",
   "metadata": {},
   "outputs": [
    {
     "name": "stdout",
     "output_type": "stream",
     "text": [
      "Final Tape: 1010101010\n",
      "Tape: 1010101010_\n",
      "Head:           ^\n",
      "State: qf\n"
     ]
    }
   ],
   "source": [
    "final_tape = tm.run()\n",
    "print(\"Final Tape:\", final_tape)\n",
    "print(tm)"
   ]
  },
  {
   "cell_type": "markdown",
   "id": "0e4eab32-e1ee-4174-a079-840bcb209daf",
   "metadata": {},
   "source": [
    "\n",
    "## Final\n",
    "Hemos creado una simulación básica de una máquina de Turing en Python. La máquina definida invierte los bits en la cinta de entrada y se detiene al encontrar un símbolo en blanco. Puedes modificar la función de transición, la cinta inicial y los estados para experimentar con diferentes configuraciones y comportamientos de la máquina de Turing.\n"
   ]
  }
 ],
 "metadata": {
  "kernelspec": {
   "display_name": "Python 3 (ipykernel)",
   "language": "python",
   "name": "python3"
  },
  "language_info": {
   "codemirror_mode": {
    "name": "ipython",
    "version": 3
   },
   "file_extension": ".py",
   "mimetype": "text/x-python",
   "name": "python",
   "nbconvert_exporter": "python",
   "pygments_lexer": "ipython3",
   "version": "3.11.7"
  }
 },
 "nbformat": 4,
 "nbformat_minor": 5
}
